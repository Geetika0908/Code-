{
 "cells": [
  {
   "cell_type": "code",
   "execution_count": 1,
   "id": "dfba3e48",
   "metadata": {},
   "outputs": [],
   "source": [
    "import pandas as pd\n",
    "import numpy as np\n",
    "from sklearn.model_selection import train_test_split\n",
    "from xgboost import XGBClassifier\n",
    "from sklearn.neural_network import MLPClassifier\n",
    "from sklearn.metrics import accuracy_score\n",
    "from sklearn.preprocessing import LabelEncoder\n",
    "from sklearn.preprocessing import OneHotEncoder\n",
    "from sklearn.ensemble import RandomForestClassifier\n",
    "from sklearn.impute import SimpleImputer\n",
    "from sklearn.metrics import accuracy_score, confusion_matrix,classification_report\n",
    "import seaborn as sns\n",
    "import matplotlib.pyplot as plt"
   ]
  },
  {
   "cell_type": "code",
   "execution_count": 2,
   "id": "2a367761",
   "metadata": {},
   "outputs": [],
   "source": [
    "data = pd.read_csv('C:/Users/sansk/OneDrive/Desktop/CapstoneCombine/extracted_1.csv') "
   ]
  },
  {
   "cell_type": "code",
   "execution_count": 3,
   "id": "f3603b2b",
   "metadata": {},
   "outputs": [],
   "source": [
    "y = data.iloc[:, -1]  # Last column is the class column\n",
    "\n",
    "# Drop the name columns (first two columns)\n",
    "X = data.iloc[:, 2:-1]  # Exclude the first two columns and the last column"
   ]
  },
  {
   "cell_type": "code",
   "execution_count": 4,
   "id": "3110ba0e",
   "metadata": {},
   "outputs": [],
   "source": [
    "# Encode class labels into numeric values\n",
    "label_encoder = LabelEncoder()\n",
    "y = label_encoder.fit_transform(y)"
   ]
  },
  {
   "cell_type": "code",
   "execution_count": 5,
   "id": "ec2cbb30",
   "metadata": {},
   "outputs": [
    {
     "name": "stderr",
     "output_type": "stream",
     "text": [
      "E:\\Anaconda\\Lib\\site-packages\\sklearn\\impute\\_base.py:555: UserWarning: Skipping features without any observed values: ['Unnamed: 32']. At least one non-missing value is needed for imputation with strategy='mean'.\n",
      "  warnings.warn(\n"
     ]
    }
   ],
   "source": [
    "# Step 2: Preprocess Categorical Features (if any)\n",
    "# If you have categorical features, one-hot encode them\n",
    "#categorical_cols = ['categorical_column1', 'categorical_column2']  # Replace with your categorical column names\n",
    "#X = pd.get_dummies(X, columns=categorical_cols, drop_first=True)\n",
    "\n",
    "#Step 3: Impute Missing Values\n",
    "imputer = SimpleImputer(strategy='mean')  # You can choose a different imputation strategy if needed\n",
    "X = imputer.fit_transform(X)"
   ]
  },
  {
   "cell_type": "code",
   "execution_count": 6,
   "id": "736bb805",
   "metadata": {},
   "outputs": [],
   "source": [
    "rf = RandomForestClassifier(n_estimators=200, random_state=42)\n",
    "rf.fit(X, y)\n",
    "feature_importances = rf.feature_importances_"
   ]
  },
  {
   "cell_type": "code",
   "execution_count": 7,
   "id": "f386f88e",
   "metadata": {},
   "outputs": [
    {
     "name": "stdout",
     "output_type": "stream",
     "text": [
      "[0.01374446 0.13683165 0.13425247 0.12228429 0.00907611 0.00459545\n",
      " 0.01684838 0.04440821 0.04300505 0.03393333 0.00533374 0.01450043\n",
      " 0.01542314 0.05627629 0.05149576 0.04083273 0.00618621 0.00487682\n",
      " 0.01169221 0.03020201 0.02777152 0.04122789 0.00582594 0.0120665\n",
      " 0.00672769 0.0316913  0.02703466 0.03360148 0.00778415 0.01047014]\n"
     ]
    }
   ],
   "source": [
    "print(feature_importances)"
   ]
  },
  {
   "cell_type": "code",
   "execution_count": 8,
   "id": "7ec566d2",
   "metadata": {},
   "outputs": [],
   "source": [
    "from sklearn.feature_selection import SelectFromModel\n",
    "selector = SelectFromModel(rf, threshold='median')  # You can adjust the threshold as needed\n",
    "selector.fit(X, y)\n",
    "X_selected = selector.transform(X)"
   ]
  },
  {
   "cell_type": "code",
   "execution_count": 9,
   "id": "767b5867",
   "metadata": {},
   "outputs": [],
   "source": [
    "X_train, X_test, y_train, y_test = train_test_split(X_selected, y, test_size=0.4, random_state=42)\n",
    "\n",
    "rf_classifier = RandomForestClassifier(n_estimators=100, random_state=42)\n",
    "rf_classifier.fit(X_train, y_train)\n",
    "\n",
    "predictions = rf_classifier.predict(X_test)\n"
   ]
  },
  {
   "cell_type": "code",
   "execution_count": 10,
   "id": "3cce903b",
   "metadata": {},
   "outputs": [
    {
     "name": "stdout",
     "output_type": "stream",
     "text": [
      "['Class 1' 'Class 4' 'Class 5' 'Class 4' 'Class 4' 'Class 4' 'Class 5'\n",
      " 'Class 5' 'Class 1' 'Class 2' 'Class 2' 'Class 1' 'Class 5' 'Class 4'\n",
      " 'Class 4' 'Class 4' 'Class 1' 'Class 5' 'Class 5' 'Class 3' 'Class 4'\n",
      " 'Class 5' 'Class 5' 'Class 5' 'Class 1' 'Class 1' 'Class 5' 'Class 1'\n",
      " 'Class 2' 'Class 1' 'Class 5' 'Class 1' 'Class 2' 'Class 5' 'Class 5'\n",
      " 'Class 5' 'Class 2' 'Class 2' 'Class 3' 'Class 5' 'Class 3' 'Class 5'\n",
      " 'Class 1' 'Class 3' 'Class 1' 'Class 4' 'Class 3' 'Class 3' 'Class 4']\n"
     ]
    }
   ],
   "source": [
    "print(predictions)"
   ]
  },
  {
   "cell_type": "code",
   "execution_count": 10,
   "id": "bf2439d4",
   "metadata": {},
   "outputs": [
    {
     "name": "stdout",
     "output_type": "stream",
     "text": [
      "Accuracy: 0.9183673469387755\n"
     ]
    }
   ],
   "source": [
    "accuracy = accuracy_score(y_test, predictions)\n",
    "print(\"Accuracy:\", accuracy)"
   ]
  },
  {
   "cell_type": "code",
   "execution_count": 12,
   "id": "638c8328",
   "metadata": {},
   "outputs": [],
   "source": [
    "confusion = confusion_matrix(y_test, predictions)"
   ]
  },
  {
   "cell_type": "code",
   "execution_count": 15,
   "id": "25357991",
   "metadata": {},
   "outputs": [
    {
     "name": "stdout",
     "output_type": "stream",
     "text": [
      "[[24  0  0  0  0]\n",
      " [ 0 11  0  0  0]\n",
      " [ 0  1  9  0  1]\n",
      " [ 0  0  1 13  2]\n",
      " [ 1  0  1  1 33]]\n"
     ]
    }
   ],
   "source": [
    "print(confusion)"
   ]
  },
  {
   "cell_type": "code",
   "execution_count": 13,
   "id": "9f5ca0c9",
   "metadata": {},
   "outputs": [
    {
     "data": {
      "image/png": "[encoded data removed]",
      "text/plain": [
       "<Figure size 800x600 with 1 Axes>"
      ]
     },
     "metadata": {},
     "output_type": "display_data"
    },
    {
     "name": "stdout",
     "output_type": "stream",
     "text": [
      "Classification Report:\n",
      "              precision    recall  f1-score   support\n",
      "\n",
      "     Class 1       0.96      1.00      0.98        24\n",
      "     Class 2       0.92      1.00      0.96        11\n",
      "     Class 3       0.82      0.82      0.82        11\n",
      "     Class 4       0.93      0.81      0.87        16\n",
      "     Class 5       0.92      0.92      0.92        36\n",
      "\n",
      "    accuracy                           0.92        98\n",
      "   macro avg       0.91      0.91      0.91        98\n",
      "weighted avg       0.92      0.92      0.92        98\n",
      "\n"
     ]
    }
   ],
   "source": [
    "# Visualize the confusion matrix as a heatmap\n",
    "plt.figure(figsize=(8, 6))\n",
    "sns.heatmap(confusion, annot=True, fmt=\"d\", cmap=\"Blues\", cbar=False)\n",
    "plt.title(\"Confusion Matrix\")\n",
    "plt.xlabel(\"Predicted\")\n",
    "plt.ylabel(\"True\")\n",
    "plt.show()\n",
    "\n",
    "# You can also print a classification report for more detailed metrics\n",
    "report = classification_report(y_test, predictions, target_names=label_encoder.classes_)\n",
    "print(\"Classification Report:\")\n",
    "print(report)"
   ]
  },
  {
   "cell_type": "code",
   "execution_count": 14,
   "id": "ee7cf51b",
   "metadata": {},
   "outputs": [
    {
     "name": "stdout",
     "output_type": "stream",
     "text": [
      "Accuracy: 0.9183673469387755\n",
      "Precision: 0.9181681243926142\n",
      "Recall: 0.9183673469387755\n",
      "F1-Score: 0.9173327538646338\n"
     ]
    }
   ],
   "source": [
    "from sklearn.metrics import precision_score, recall_score, f1_score\n",
    "precision = precision_score(y_test, predictions, average='weighted')\n",
    "recall = recall_score(y_test, predictions, average='weighted')\n",
    "f1 = f1_score(y_test, predictions, average='weighted')\n",
    "\n",
    "print(\"Accuracy:\", accuracy)\n",
    "print(\"Precision:\", precision)\n",
    "print(\"Recall:\", recall)\n",
    "print(\"F1-Score:\", f1)"
   ]
  },
  {
   "cell_type": "code",
   "execution_count": null,
   "id": "1375d46b",
   "metadata": {},
   "outputs": [],
   "source": []
  }
 ],
 "metadata": {
  "kernelspec": {
   "display_name": "Python 3 (ipykernel)",
   "language": "python",
   "name": "python3"
  },
  "language_info": {
   "codemirror_mode": {
    "name": "ipython",
    "version": 3
   },
   "file_extension": ".py",
   "mimetype": "text/x-python",
   "name": "python",
   "nbconvert_exporter": "python",
   "pygments_lexer": "ipython3",
   "version": "3.11.4"
  }
 },
 "nbformat": 4,
 "nbformat_minor": 5
}
